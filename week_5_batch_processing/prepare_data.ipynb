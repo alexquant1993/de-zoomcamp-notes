{
 "cells": [
  {
   "attachments": {},
   "cell_type": "markdown",
   "metadata": {},
   "source": [
    "## Download NY Taxi data from Github"
   ]
  },
  {
   "cell_type": "code",
   "execution_count": 10,
   "metadata": {},
   "outputs": [
    {
     "name": "stderr",
     "output_type": "stream",
     "text": [
      "Downloading data for green service in 2020: 100%|██████████| 12/12 [00:08<00:00,  1.34it/s]\n",
      "Downloading data for yellow service in 2020: 100%|██████████| 12/12 [00:32<00:00,  2.73s/it]\n",
      "Downloading data for green service in 2021: 100%|██████████| 12/12 [00:08<00:00,  1.40it/s]\n",
      "Downloading data for yellow service in 2021: 100%|██████████| 12/12 [00:15<00:00,  1.32s/it]\n"
     ]
    }
   ],
   "source": [
    "import os\n",
    "import requests\n",
    "from tqdm import tqdm\n",
    "\n",
    "services = ['green','yellow']\n",
    "init_url = 'https://github.com/DataTalksClub/nyc-tlc-data/releases/download/'\n",
    "\n",
    "def dwld_ny_taxi_data(year, service):\n",
    "    desc = f'Downloading data for {service} service in {year}'\n",
    "    for i in tqdm(range(12), desc = desc):\n",
    "        # sets the month part of the file_name string\n",
    "        month = '0'+str(i+1)\n",
    "        month = month[-2:]\n",
    "\n",
    "        # Get full path to download file\n",
    "        local_prefix = f'data/raw/{service}/{year}/{month}'\n",
    "        local_file = f'{service}_tripdata_{year}-{month}.csv.gz'\n",
    "        local_path = f'{local_prefix}/{local_file}'\n",
    "\n",
    "        # Create local directory if it doesn't exist\n",
    "        os.makedirs(local_prefix, exist_ok=True)\n",
    "\n",
    "        # Download file\n",
    "        request_url = init_url + service + '/' + local_file\n",
    "        response = requests.get(request_url)\n",
    "        with open(local_path, 'wb') as f:\n",
    "            f.write(response.content)\n",
    "\n",
    "# Download data for all the provided years and services\n",
    "for year in ['2020', '2021']:\n",
    "    for service in ['green', 'yellow']:\n",
    "        dwld_ny_taxi_data(year, service)"
   ]
  },
  {
   "attachments": {},
   "cell_type": "markdown",
   "metadata": {},
   "source": [
    "## Read csv with PySpark and save as parquet"
   ]
  },
  {
   "cell_type": "code",
   "execution_count": 21,
   "metadata": {},
   "outputs": [],
   "source": [
    "# Load libraries\n",
    "import pyspark\n",
    "from pyspark.sql import SparkSession\n",
    "from pyspark.sql import types\n",
    "import pandas as pd\n",
    "\n",
    "# Create spark session\n",
    "spark = SparkSession.builder \\\n",
    "    .master(\"local[*]\") \\\n",
    "    .appName('prepare_data') \\\n",
    "    .getOrCreate()"
   ]
  },
  {
   "cell_type": "code",
   "execution_count": 22,
   "metadata": {},
   "outputs": [],
   "source": [
    "# Define schemas\n",
    "green_schema = types.StructType([\n",
    "    types.StructField(\"VendorID\", types.IntegerType(), True),\n",
    "    types.StructField(\"lpep_pickup_datetime\", types.TimestampType(), True),\n",
    "    types.StructField(\"lpep_dropoff_datetime\", types.TimestampType(), True),\n",
    "    types.StructField(\"store_and_fwd_flag\", types.StringType(), True),\n",
    "    types.StructField(\"RatecodeID\", types.IntegerType(), True),\n",
    "    types.StructField(\"PULocationID\", types.IntegerType(), True),\n",
    "    types.StructField(\"DOLocationID\", types.IntegerType(), True),\n",
    "    types.StructField(\"passenger_count\", types.IntegerType(), True),\n",
    "    types.StructField(\"trip_distance\", types.DoubleType(), True),\n",
    "    types.StructField(\"fare_amount\", types.DoubleType(), True),\n",
    "    types.StructField(\"extra\", types.DoubleType(), True),\n",
    "    types.StructField(\"mta_tax\", types.DoubleType(), True),\n",
    "    types.StructField(\"tip_amount\", types.DoubleType(), True),\n",
    "    types.StructField(\"tolls_amount\", types.DoubleType(), True),\n",
    "    types.StructField(\"ehail_fee\", types.DoubleType(), True),\n",
    "    types.StructField(\"improvement_surcharge\", types.DoubleType(), True),\n",
    "    types.StructField(\"total_amount\", types.DoubleType(), True),\n",
    "    types.StructField(\"payment_type\", types.IntegerType(), True),\n",
    "    types.StructField(\"trip_type\", types.IntegerType(), True),\n",
    "    types.StructField(\"congestion_surcharge\", types.DoubleType(), True)\n",
    "])\n",
    "\n",
    "yellow_schema = types.StructType([\n",
    "    types.StructField(\"VendorID\", types.IntegerType(), True),\n",
    "    types.StructField(\"tpep_pickup_datetime\", types.TimestampType(), True),\n",
    "    types.StructField(\"tpep_dropoff_datetime\", types.TimestampType(), True),\n",
    "    types.StructField(\"passenger_count\", types.IntegerType(), True),\n",
    "    types.StructField(\"trip_distance\", types.DoubleType(), True),\n",
    "    types.StructField(\"RatecodeID\", types.IntegerType(), True),\n",
    "    types.StructField(\"store_and_fwd_flag\", types.StringType(), True),\n",
    "    types.StructField(\"PULocationID\", types.IntegerType(), True),\n",
    "    types.StructField(\"DOLocationID\", types.IntegerType(), True),\n",
    "    types.StructField(\"payment_type\", types.IntegerType(), True),\n",
    "    types.StructField(\"fare_amount\", types.DoubleType(), True),\n",
    "    types.StructField(\"extra\", types.DoubleType(), True),\n",
    "    types.StructField(\"mta_tax\", types.DoubleType(), True),\n",
    "    types.StructField(\"tip_amount\", types.DoubleType(), True),\n",
    "    types.StructField(\"tolls_amount\", types.DoubleType(), True),\n",
    "    types.StructField(\"improvement_surcharge\", types.DoubleType(), True),\n",
    "    types.StructField(\"total_amount\", types.DoubleType(), True),\n",
    "    types.StructField(\"congestion_surcharge\", types.DoubleType(), True)\n",
    "])"
   ]
  },
  {
   "cell_type": "code",
   "execution_count": 25,
   "metadata": {},
   "outputs": [
    {
     "name": "stdout",
     "output_type": "stream",
     "text": [
      "Processing data for yellow service - 2021/1\n",
      "Processing data for yellow service - 2021/2\n",
      "Processing data for yellow service - 2021/3\n",
      "Processing data for yellow service - 2021/4\n",
      "Processing data for yellow service - 2021/5\n",
      "Processing data for yellow service - 2021/6\n",
      "Processing data for yellow service - 2021/7\n",
      "Processing data for yellow service - 2021/8\n",
      "Error processing data/raw/yellow/2021/08/ - Py4JJavaError\n",
      "Processing data for yellow service - 2021/9\n",
      "Error processing data/raw/yellow/2021/09/ - Py4JJavaError\n",
      "Processing data for yellow service - 2021/10\n",
      "Error processing data/raw/yellow/2021/10/ - Py4JJavaError\n",
      "Processing data for yellow service - 2021/11\n",
      "Error processing data/raw/yellow/2021/11/ - Py4JJavaError\n",
      "Processing data for yellow service - 2021/12\n",
      "Error processing data/raw/yellow/2021/12/ - Py4JJavaError\n"
     ]
    }
   ],
   "source": [
    "# Pass CSV files to a parquet format, including the defined schema\n",
    "years = ['2020', '2021']\n",
    "services = ['green', 'yellow']\n",
    "months = range(1, 13)\n",
    "for year in years:\n",
    "    for service in services:\n",
    "        for month in months:\n",
    "            print(f'Processing data for {service} service - {year}/{month}')\n",
    "            # Set paths\n",
    "            input_path = f'data/raw/{service}/{year}/{month:02d}/'\n",
    "            output_path = f'data/pq/{service}/{year}/{month:02d}/'\n",
    "            # Get correct schema\n",
    "            schema = green_schema if service == 'green' else yellow_schema\n",
    "            try:\n",
    "                # Read csv file\n",
    "                df = spark.read \\\n",
    "                    .option(\"header\", \"true\") \\\n",
    "                    .schema(schema) \\\n",
    "                    .csv(input_path)\n",
    "                # Save as parquet\n",
    "                df.repartition(4).write.parquet(output_path)\n",
    "            except Exception as e:\n",
    "                print(f'Error processing {input_path} - {type(e).__name__}')\n",
    "                continue"
   ]
  },
  {
   "cell_type": "code",
   "execution_count": 26,
   "metadata": {},
   "outputs": [],
   "source": [
    "spark.stop()"
   ]
  }
 ],
 "metadata": {
  "kernelspec": {
   "display_name": "de-zoomcamp2",
   "language": "python",
   "name": "python3"
  },
  "language_info": {
   "codemirror_mode": {
    "name": "ipython",
    "version": 3
   },
   "file_extension": ".py",
   "mimetype": "text/x-python",
   "name": "python",
   "nbconvert_exporter": "python",
   "pygments_lexer": "ipython3",
   "version": "3.10.9"
  },
  "orig_nbformat": 4
 },
 "nbformat": 4,
 "nbformat_minor": 2
}
